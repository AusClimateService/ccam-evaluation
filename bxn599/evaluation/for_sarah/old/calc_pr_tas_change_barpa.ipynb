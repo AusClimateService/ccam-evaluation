{
 "cells": [
  {
   "cell_type": "code",
   "execution_count": null,
   "id": "065ef8d4-ac2a-46fd-b7ee-f2aeadde7410",
   "metadata": {},
   "outputs": [],
   "source": [
    "## Tested using the following loaded modules\n",
    "## module use /g/data/access/ngm/modules\n",
    "## module load analysis3/21.10\n",
    "import os, sys\n",
    "workdir = \"/g/data/xv83/users/bxn599/ACS/evaluation/\"\n",
    "os.chdir(workdir)\n",
    "sys.path.append(\"./lib\")\n",
    "import glob\n",
    "import xarray as xr\n",
    "import numpy as np\n",
    "import geopandas as gp\n",
    "import datetime as dt\n",
    "import lib_standards\n",
    "import lib_spatial\n",
    "import spatial_selection\n",
    "import matplotlib as mpl\n",
    "import matplotlib.pyplot as plt\n",
    "import importlib\n",
    "importlib.reload(lib_standards)\n",
    "import warnings\n",
    "warnings.filterwarnings('ignore')\n",
    "import csv\n",
    "import barpa_drs_interface as ccam_drs_interface\n",
    "import re\n",
    "\n",
    "font = {'size'   : 12}\n",
    "mpl.rc('font', **font)"
   ]
  },
  {
   "cell_type": "code",
   "execution_count": null,
   "id": "1830d493-8fb4-4bf9-b5d8-fd33082456af",
   "metadata": {},
   "outputs": [],
   "source": [
    "GCMS=['EC-Earth-Consortium-EC-Earth3','NCC-NorESM2-MM']\n",
    "SCENARIOS=['ssp126','ssp370']\n",
    "PERIOD='ACS_HISTORICAL'\n",
    "LATEPERIODS = {'ACS_2020': '2020-2039', 'ACS_2040': '2040-2069', 'ACS_2060': '2060-2079', 'ACS_2080': '2080-2099'}\n",
    "freq='mon'\n",
    "VARS=['pr','tasmean']\n",
    "REGION='Australia'\n",
    "SEASONS=['all', 'DJF', 'MAM', 'JJA', 'SON']"
   ]
  },
  {
   "cell_type": "code",
   "execution_count": null,
   "id": "549ac7d1-1a29-4688-acb1-78d1d63b5ac3",
   "metadata": {},
   "outputs": [],
   "source": [
    "header = ['Season', 'Variable', 'Project', 'Domain', 'Downscaler', 'Region', 'Model', 'Experiment', 'Variant', 'Hist-Epoch', 'Proj-Epoch', 'Change-Type', 'Value']\n",
    "f = open('/g/data/xv83/users/bxn599/ACS/evaluation/test_raw_barpa.csv','w')\n",
    "writer = csv.writer(f)\n",
    "writer.writerow(header)"
   ]
  },
  {
   "cell_type": "code",
   "execution_count": null,
   "id": "34237fb2-f880-4c62-9cd1-671df00a8d9f",
   "metadata": {},
   "outputs": [],
   "source": [
    "for var in VARS:\n",
    "    for SEASON in SEASONS:\n",
    "        if SEASON == 'all':\n",
    "            season = 'annual'\n",
    "        else:\n",
    "            season = SEASON\n",
    "        for gcm in GCMS:\n",
    "            model = gcm\n",
    "            experiment = ccam_drs_interface._GCM_ENS[gcm]\n",
    "            dhist = ccam_drs_interface.get_barpa(gcm, 'historical', 'mon', var, [dt.datetime(1995,1,1), dt.datetime(2014,12,31,23)], as_iris=False, lonrange=[112.0,156.2], latrange=[-44.5,-10.0],verbose=False)\n",
    "            dhist = lib_standards.standardise_data(dhist, region='Australia', period=PERIOD, season=SEASON, compute=True)\n",
    "            print(dhist)\n",
    "            d0 = dhist[var].mean(dim='time')\n",
    "            d0 = lib_spatial.apply_region_mask(d0, REGION)\n",
    "            for scenario in SCENARIOS:\n",
    "                dfut = ccam_drs_interface.get_barpa(gcm, scenario, 'mon', var, [dt.datetime(2015,1,1), dt.datetime(2099,12,31,23)], as_iris=False, lonrange=[112.0,156.2], latrange=[-44.5,-10.0],verbose=False)\n",
    "                for LATEPERIOD in LATEPERIODS:\n",
    "                    print(LATEPERIOD)\n",
    "                    print(model)\n",
    "                    print(experiment)\n",
    "                    print(LATEPERIOD)\n",
    "                    futperiod=LATEPERIODS[LATEPERIOD]\n",
    "                    print(futperiod)\n",
    "                    print(season)\n",
    "                    print(REGION)\n",
    "                    print(scenario)\n",
    "                    dfuts = lib_standards.standardise_data(dfut, region='Australia', period=LATEPERIOD, season=SEASON, compute=True)\n",
    "                    print(dfuts)\n",
    "                    d1 = dfuts[var].mean(dim='time')\n",
    "                    d1 = lib_spatial.apply_region_mask(d1, REGION)\n",
    "                    d2 = (d1-d0)/d0*100 # percentage change\n",
    "                    unweighted = d2.mean((\"lon\",\"lat\"))\n",
    "\n",
    "                    d1_mean = dfuts[var].mean()\n",
    "                    d0_mean = dhist[var].mean()\n",
    "                    d2_mean = (d1_mean-d0_mean)/d0_mean*100\n",
    "                    \n",
    "                    weights = np.cos(np.deg2rad(d2.lat))\n",
    "                    weights.name = \"weights\"\n",
    "                    area_avg = d2.weighted(weights)\n",
    "                    area_avg = d2.mean((\"lon\", \"lat\"))\n",
    "                    print(area_avg.values)\n",
    "                    print(unweighted.values)\n",
    "                    print(d2_mean.values)\n",
    "                    data = [season, var, 'BARPA-R', 'AUS-15', 'n/a', REGION, model, scenario, experiment, '1995-2014', futperiod, 'percent', area_avg.values]\n",
    "                    writer.writerow(data)"
   ]
  },
  {
   "cell_type": "code",
   "execution_count": null,
   "id": "f5aaff82-680f-4ebc-8616-bb24c91bbc3b",
   "metadata": {},
   "outputs": [],
   "source": [
    "f.close()"
   ]
  },
  {
   "cell_type": "code",
   "execution_count": null,
   "id": "d5f3a131-985b-48f2-8168-203c6278b876",
   "metadata": {},
   "outputs": [],
   "source": []
  }
 ],
 "metadata": {
  "kernelspec": {
   "display_name": "Python [conda env:analysis3-23.01]",
   "language": "python",
   "name": "conda-env-analysis3-23.01-py"
  },
  "language_info": {
   "codemirror_mode": {
    "name": "ipython",
    "version": 3
   },
   "file_extension": ".py",
   "mimetype": "text/x-python",
   "name": "python",
   "nbconvert_exporter": "python",
   "pygments_lexer": "ipython3",
   "version": "3.9.15"
  }
 },
 "nbformat": 4,
 "nbformat_minor": 5
}
