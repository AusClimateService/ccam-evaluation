{
 "cells": [
  {
   "cell_type": "code",
   "execution_count": 1,
   "id": "065ef8d4-ac2a-46fd-b7ee-f2aeadde7410",
   "metadata": {},
   "outputs": [],
   "source": [
    "## Tested using the following loaded modules\n",
    "## module use /g/data/access/ngm/modules\n",
    "## module load analysis3/21.10\n",
    "import os, sys\n",
    "workdir = \"/g/data/xv83/users/bxn599/ACS/evaluation/\"\n",
    "os.chdir(workdir)\n",
    "sys.path.append(\"./lib\")\n",
    "import glob\n",
    "import xarray as xr\n",
    "import numpy as np\n",
    "import geopandas as gp\n",
    "import datetime as dt\n",
    "import lib_standards\n",
    "import lib_spatial\n",
    "import spatial_selection\n",
    "import matplotlib as mpl\n",
    "import matplotlib.pyplot as plt\n",
    "import importlib\n",
    "importlib.reload(lib_standards)\n",
    "import warnings\n",
    "warnings.filterwarnings('ignore')\n",
    "import csv\n",
    "import barpa_drs_interface\n",
    "import re\n",
    "\n",
    "font = {'size'   : 12}\n",
    "mpl.rc('font', **font)"
   ]
  },
  {
   "cell_type": "code",
   "execution_count": 2,
   "id": "1830d493-8fb4-4bf9-b5d8-fd33082456af",
   "metadata": {},
   "outputs": [],
   "source": [
    "GCMS=['EC-Earth-Consortium-EC-Earth3', 'NCC-NorESM2-MM']\n",
    "SCENARIOS=['ssp370']\n",
    "PERIOD='ACS_HISTORICAL'\n",
    "LATEPERIODS = {'ACS_2020': '2020-2039', 'ACS_2040': '2040-2069', 'ACS_2060': '2060-2079', 'ACS_2080': '2080-2099'}\n",
    "freq='mon'\n",
    "VARS=['pr','tas']\n",
    "REGION=['Australia', 'Queensland']\n",
    "SEASONS=['all']"
   ]
  },
  {
   "cell_type": "code",
   "execution_count": 3,
   "id": "549ac7d1-1a29-4688-acb1-78d1d63b5ac3",
   "metadata": {},
   "outputs": [
    {
     "data": {
      "text/plain": [
       "117"
      ]
     },
     "execution_count": 3,
     "metadata": {},
     "output_type": "execute_result"
    }
   ],
   "source": [
    "count = 0\n",
    "header = [' ', 'Season', 'Variable', 'Project', 'Domain', 'Downscaler', 'Region', 'Model', 'Experiment', 'Variant', 'Hist-Epoch', 'Proj-Epoch', 'Change-Type', 'Value']\n",
    "f = open('/g/data/xv83/users/bxn599/ACS/evaluation/test_raw_barpa_compare.csv','w')\n",
    "writer = csv.writer(f)\n",
    "writer.writerow(header)"
   ]
  },
  {
   "cell_type": "code",
   "execution_count": 4,
   "id": "34237fb2-f880-4c62-9cd1-671df00a8d9f",
   "metadata": {},
   "outputs": [
    {
     "name": "stdout",
     "output_type": "stream",
     "text": [
      "23.024948\n",
      "25.50223\n",
      "31.636969\n",
      "67.219986\n",
      "3.2697275\n",
      "-5.588011\n",
      "4.9893975\n",
      "-2.3794913\n",
      "17.388401\n",
      "32.891953\n",
      "42.381653\n",
      "52.357708\n",
      "0.15894692\n",
      "-2.464945\n",
      "1.4863088\n",
      "-1.3288722\n",
      "0.8166627\n",
      "1.4585027\n",
      "2.5884793\n",
      "3.622257\n",
      "0.29525998\n",
      "1.2303035\n",
      "1.8812423\n",
      "2.816336\n",
      "0.9220908\n",
      "1.5384296\n",
      "2.774844\n",
      "3.8323882\n",
      "0.57881933\n",
      "1.4128717\n",
      "2.0607326\n",
      "3.1262026\n"
     ]
    }
   ],
   "source": [
    "for var in VARS:\n",
    "    for region in REGION:\n",
    "        for SEASON in SEASONS:\n",
    "            if SEASON == 'all':\n",
    "                season = 'annual'\n",
    "            else:\n",
    "                season = SEASON\n",
    "            for gcm in GCMS:\n",
    "                model = gcm\n",
    "                experiment = barpa_drs_interface._GCM_ENS[gcm]\n",
    "                if var == 'tas' and gcm != 'NCC-NorESM2-MM':\n",
    "                    varh = 'tasmean'\n",
    "                else:\n",
    "                    varh = var\n",
    "                dhist = barpa_drs_interface.get_barpa(gcm, 'historical', 'mon', varh, [dt.datetime(1995,1,1), dt.datetime(2014,12,31,23)], as_iris=False, lonrange=[112.0,156.2], latrange=[-44.5,-10.0],verbose=False)\n",
    "                dhist = lib_standards.standardise_data(dhist, region='Australia', period=PERIOD, season=SEASON, compute=True)\n",
    "                d0 = dhist[varh].mean(dim='time')\n",
    "                d0 = lib_spatial.apply_region_mask(d0, region)\n",
    "                for scenario in SCENARIOS:\n",
    "                    dfut = barpa_drs_interface.get_barpa(gcm, scenario, 'mon', var, [dt.datetime(2015,1,1), dt.datetime(2099,12,31,23)], as_iris=False, lonrange=[112.0,156.2], latrange=[-44.5,-10.0],verbose=False)\n",
    "                    for LATEPERIOD in LATEPERIODS:\n",
    "                        futperiod=LATEPERIODS[LATEPERIOD]\n",
    "                        dfuts = lib_standards.standardise_data(dfut, region='Australia', period=LATEPERIOD, season=SEASON, compute=True)\n",
    "                        \n",
    "                        d1 = dfuts[var].mean(dim='time')\n",
    "                        d1 = lib_spatial.apply_region_mask(d1, region)\n",
    "                        if var == 'pr':\n",
    "                            d2 = (d1-d0)/d0*100 # percentage change\n",
    "                        else:\n",
    "                            d2 = (d1-d0)\n",
    "                        \n",
    "                        weights = np.cos(np.deg2rad(d2.lat))\n",
    "                        weights.name = \"weights\"\n",
    "                        area_avg = d2.weighted(weights)\n",
    "                        area_avg = d2.mean((\"lon\", \"lat\"))\n",
    "                        print(area_avg.values)\n",
    "                        if var == 'pr':\n",
    "                            data = [count, season, var, 'BARPA-R', 'AUS-15', 'n/a', region, model, scenario, experiment, '1995-2014', futperiod, 'percent', area_avg.values]\n",
    "                        else:\n",
    "                            data = [count, season, var, 'BARPA-R', 'AUS-15', 'n/a', region, model, scenario, experiment, '1995-2014', futperiod, 'absolute', area_avg.values]\n",
    "                        writer.writerow(data)\n",
    "                        count+=1"
   ]
  },
  {
   "cell_type": "code",
   "execution_count": 5,
   "id": "f5aaff82-680f-4ebc-8616-bb24c91bbc3b",
   "metadata": {},
   "outputs": [],
   "source": [
    "f.close()"
   ]
  },
  {
   "cell_type": "code",
   "execution_count": null,
   "id": "d5f3a131-985b-48f2-8168-203c6278b876",
   "metadata": {},
   "outputs": [],
   "source": []
  }
 ],
 "metadata": {
  "kernelspec": {
   "display_name": "Python [conda env:analysis3-23.01]",
   "language": "python",
   "name": "conda-env-analysis3-23.01-py"
  },
  "language_info": {
   "codemirror_mode": {
    "name": "ipython",
    "version": 3
   },
   "file_extension": ".py",
   "mimetype": "text/x-python",
   "name": "python",
   "nbconvert_exporter": "python",
   "pygments_lexer": "ipython3",
   "version": "3.9.15"
  }
 },
 "nbformat": 4,
 "nbformat_minor": 5
}
