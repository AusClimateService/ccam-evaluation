{
 "cells": [
  {
   "cell_type": "code",
   "execution_count": 1,
   "id": "6bd6bfbf-fefa-4a00-9876-ab245c3eb40f",
   "metadata": {},
   "outputs": [],
   "source": [
    "## Tested using the following loaded modules\n",
    "## module use /g/data/access/ngm/modules\n",
    "## module load analysis3/21.10\n",
    "import os, sys\n",
    "workdir = \"/g/data/xv83/users/bxn599/ACS/evaluation/\"\n",
    "os.chdir(workdir)\n",
    "sys.path.append(\"./lib\")\n",
    "import glob\n",
    "import xarray as xr\n",
    "import numpy as np\n",
    "import geopandas as gp\n",
    "from datetime import datetime as dt\n",
    "import lib_standards\n",
    "import lib_spatial\n",
    "import spatial_selection\n",
    "import matplotlib as mpl\n",
    "import matplotlib.pyplot as plt\n",
    "import importlib\n",
    "importlib.reload(lib_standards)\n",
    "import warnings\n",
    "warnings.filterwarnings('ignore')\n",
    "\n",
    "font = {'size'   : 12}\n",
    "mpl.rc('font', **font)"
   ]
  },
  {
   "cell_type": "code",
   "execution_count": 2,
   "id": "31390696-9de7-400e-b909-dc1bdbd9cfcb",
   "metadata": {},
   "outputs": [],
   "source": [
    "DATA_LOCATIONS = {\n",
    "    'AGCD': \"/g/data/ia39/australian-climate-service/test-data/CORDEX-CMIP6/indices/AUS-r005/none/BOM-AGCD/historical/none/none/none/climdex\",\n",
    "    'ERA5': \"/g/data/ia39/australian-climate-service/test-data/CORDEX-CMIP6/indices/AUS-25/none/ECMWF-ERA5/historical/none/none/none/climdex\",\n",
    "    'BARPA-R:ERA5': \"/g/data/ia39/australian-climate-service/test-data/CORDEX-CMIP6/indices/AUS-15/BOM/ECMWF-ERA5/evaluation/none/BOM-BARPA-R/v1/climdex\",\n",
    "    'BARPA-R:ACCESS-CM2': \"/g/data/xv83/users/bxn599/ACS/icclim_indices/AUS-15/BOM/CSIRO-BOM-ACCESS-CM2/ssp126/r4i1p1f1/BOM-BARPA-R/v1/climdex\",\n",
    "    'BARPA-R:ACCESS-ESM1-5': \"/g/data/xv83/users/bxn599/ACS/icclim_indices/AUS-15/BOM/CSIRO-BOM-ACCESS-ESM1-5/ssp126/r6i1p1f1/BOM-BARPA-R/v1/climdex\",\n",
    "    'BARPA-R:EC-Earth3': \"/g/data/xv83/users/bxn599/ACS/icclim_indices/AUS-15/BOM/EC-Earth-Consortium-EC-Earth3/ssp126/r1i1p1f1/BOM-BARPA-R/v1/climdex\",\n",
    "    'CCAM:ERA5': \"/g/data/ia39/australian-climate-service/test-data/CORDEX-CMIP6/indices/AUS-10/CSIRO/ECMWF-ERA5/evaluation/none/CSIRO-CCAM-2203/v1/climdex\",\n",
    "    'CCAM:NorESM2-MM': \"/g/data/xv83/users/bxn599/ACS/icclim_indices/AUS-10/CSIRO/NCC-NorESM2-MM/ssp126/r1i1p1f1/CSIRO-CCAM-2203/v1/climdex\",\n",
    "    'CMIP6:ACCESS-CM2': \"/g/data/xv83/users/bxn599/ACS/icclim_indices/GLOBAL-gn/none/CSIRO-ARCCSS-ACCESS-CM2/ssp126/r4i1p1f1/none/none/climdex\",\n",
    "    'CMIP6:ACCESS-ESM1-5': \"/g/data/xv83/users/bxn599/ACS/icclim_indices/GLOBAL-gn/none/CSIRO-ARCCSS-ACCESS-CM2/ssp126/r4i1p1f1/none/none/climdex\",\n",
    "    'CMIP6:CESM2': \"/g/data/xv83/users/bxn599/ACS/icclim_indices/GLOBAL-gn/none/NCAR-CESM2/ssp126/r11i1p1f1/none/none/climdex\",\n",
    "    'CMIP6:CMCC-ESM2': \"/g/data/xv83/users/bxn599/ACS/icclim_indices/GLOBAL-gn/none/CMCC-CMCC-ESM2/ssp126/r1i1p1f1/none/none/climdex\",\n",
    "    'CMIP6:CNRM-ESM2-1': \"/g/data/xv83/users/bxn599/ACS/icclim_indices/GLOBAL-gn/none/CNRM-CERFACS-CNRM-ESM2-1/ssp126/r1i1p1f2/none/none/climdex\",\n",
    "    'CMIP6:EC-Earth3': \"/g/data/xv83/users/bxn599/ACS/icclim_indices/GLOBAL-gn/none/EC-Earth-Consortium-EC-Earth3/ssp126/r1i1p1f1/none/none/climdex\",\n",
    "    'CMIP6:NorESM2-MM': \"/g/data/xv83/users/bxn599/ACS/icclim_indices/GLOBAL-gn/none/NCC-NorESM2-MM/ssp126/r1i1p1f1/none/none/climdex\",\n",
    "}\n",
    "# Frequency of icclim indicator\n",
    "FREQ = 'month'\n",
    "# Data sources to consider here\n",
    "SOURCES = ['BARPA-R:ACCESS-CM2', 'BARPA-R:ACCESS-ESM1-5', 'BARPA-R:EC-Earth3', 'CCAM:NorESM2-MM', 'CMIP6:ACCESS-CM2', \\\n",
    "           'CMIP6:ACCESS-ESM1-5', 'CMIP6:CESM2', 'CMIP6:CMCC-ESM2', 'CMIP6:CNRM-ESM2-1', 'CMIP6:EC-Earth3', 'CMIP6:NorESM2-MM']\n",
    "# Grid to used as the reference grid to compute difference metrics\n",
    "REFERENCE_GRID = 'CCAM:NorESM2-MM'\n",
    "# \"Truth\" for compute difference metrics\n",
    "#REFERENCE = 'AGCD'\n",
    "# Region of interest, as per defined in lib_standards.DOMAINS\n",
    "REGION = 'Australia'  \n",
    "# Period of interest, as per defined in lib_standards.PERIODS\n",
    "PERIOD = 'FUTURE_WHOLE' \n",
    "SEASON='all'"
   ]
  },
  {
   "cell_type": "code",
   "execution_count": 3,
   "id": "70fd9c1e-be8d-4925-bbd4-ae4821c243c7",
   "metadata": {},
   "outputs": [],
   "source": [
    "def prepare_data(index, sources=SOURCES, freq=FREQ, region=REGION, period=PERIOD, reference_grid=REFERENCE_GRID, season=SEASON):\n",
    "    \"\"\"\n",
    "    Reads in the icclim data and regrid to the reference grid.\n",
    "    \"\"\"\n",
    "    # Load the data sources\n",
    "    ds = {}\n",
    "    for s in sources:\n",
    "        #print(\"Reading the data {:}\".format(s))\n",
    "        fs = glob.glob(os.path.join(DATA_LOCATIONS[s], index, \"{index}_*_{freq}_*.nc\".format(index=index, freq=freq)))\n",
    "        ds[s] = xr.open_dataset(fs[0])\n",
    "        ds[s] = lib_standards.standardise_data(ds[s], region=region, period=period, season=season, compute=True)\n",
    "\n",
    "    # Regrid to the REFERENCE_GRID\n",
    "    ds_regrid = {}\n",
    "    for s in sources:\n",
    "        #print(\"Regridding the data {:} to reference grid of {:}\".format(s, reference_grid))\n",
    "        #ds_regrid[s] = lib_spatial.add_region_land_mask(ds[s], region)\n",
    "        ds_regrid[s] = ds[s]\n",
    "        if s == reference_grid:\n",
    "            ds_regrid[s] = ds_regrid[s].compute()\n",
    "        else:\n",
    "            ds_regrid[s] = lib_standards.regrid(ds_regrid[s], ds[reference_grid]).compute()\n",
    "    return ds_regrid"
   ]
  },
  {
   "cell_type": "markdown",
   "id": "8eb2cce1-dfe2-4d1e-806f-ff3f7bbd2ccb",
   "metadata": {
    "tags": []
   },
   "source": [
    "# TX: Mean of daily maximum temperature"
   ]
  },
  {
   "cell_type": "code",
   "execution_count": 5,
   "id": "baa302dd-4130-4648-a40b-000013312f75",
   "metadata": {},
   "outputs": [
    {
     "name": "stdout",
     "output_type": "stream",
     "text": [
      "index = TX\n",
      "BARPA-R:ACCESS-CM2\n",
      "2023-02-28 13:59:16.021067\n",
      "Finished calculating Sen slope, applying region mask\n",
      "BARPA-R:ACCESS-ESM1-5\n",
      "2023-02-28 13:59:16.021067\n",
      "Finished calculating Sen slope, applying region mask\n",
      "BARPA-R:EC-Earth3\n",
      "2023-02-28 13:59:16.021067\n",
      "Finished calculating Sen slope, applying region mask\n",
      "CCAM:NorESM2-MM\n",
      "2023-02-28 13:59:16.021067\n",
      "Finished calculating Sen slope, applying region mask\n"
     ]
    },
    {
     "ename": "TypeError",
     "evalue": "float() argument must be a string or a number, not 'cftime._cftime.DatetimeNoLeap'",
     "output_type": "error",
     "traceback": [
      "\u001b[0;31m---------------------------------------------------------------------------\u001b[0m",
      "\u001b[0;31mTypeError\u001b[0m                                 Traceback (most recent call last)",
      "Cell \u001b[0;32mIn[5], line 28\u001b[0m\n\u001b[1;32m     25\u001b[0m \u001b[38;5;28mprint\u001b[39m(\u001b[38;5;124m\"\u001b[39m\u001b[38;5;124mFinished calculating Sen slope, applying region mask\u001b[39m\u001b[38;5;124m\"\u001b[39m)\n\u001b[1;32m     27\u001b[0m ds_target[s] \u001b[38;5;241m=\u001b[39m lib_spatial\u001b[38;5;241m.\u001b[39mapply_region_mask(ds_target[s], \u001b[38;5;124m'\u001b[39m\u001b[38;5;124mAustralia\u001b[39m\u001b[38;5;124m'\u001b[39m)\n\u001b[0;32m---> 28\u001b[0m ds_target[s] \u001b[38;5;241m=\u001b[39m \u001b[43mlib_standards\u001b[49m\u001b[38;5;241;43m.\u001b[39;49m\u001b[43mcompute_sen_slope\u001b[49m\u001b[43m(\u001b[49m\u001b[43mds_target\u001b[49m\u001b[43m[\u001b[49m\u001b[43ms\u001b[49m\u001b[43m]\u001b[49m\u001b[43m)\u001b[49m\n\u001b[1;32m     30\u001b[0m \u001b[38;5;66;03m# save min/max values into a flattened list to generate shared colourbar\u001b[39;00m\n\u001b[1;32m     31\u001b[0m \u001b[38;5;28;01mfor\u001b[39;00m sublist \u001b[38;5;129;01min\u001b[39;00m ds_target[s]\u001b[38;5;241m.\u001b[39mvalues:\n",
      "File \u001b[0;32m/g/data/xv83/users/bxn599/ACS/evaluation/./lib/lib_standards.py:190\u001b[0m, in \u001b[0;36mcompute_sen_slope\u001b[0;34m(ds)\u001b[0m\n\u001b[1;32m    187\u001b[0m     slope_values[i,j] \u001b[38;5;241m=\u001b[39m np\u001b[38;5;241m.\u001b[39mnan\n\u001b[1;32m    188\u001b[0m     \u001b[38;5;28;01mcontinue\u001b[39;00m\n\u001b[0;32m--> 190\u001b[0m (m, c, m_l, m_u) \u001b[38;5;241m=\u001b[39m \u001b[43mtheilslopes\u001b[49m\u001b[43m(\u001b[49m\u001b[43mds\u001b[49m\u001b[43m[\u001b[49m\u001b[43m:\u001b[49m\u001b[43m,\u001b[49m\u001b[43mi\u001b[49m\u001b[43m,\u001b[49m\u001b[43mj\u001b[49m\u001b[43m]\u001b[49m\u001b[43m,\u001b[49m\u001b[43m \u001b[49m\u001b[43mds\u001b[49m\u001b[43m[\u001b[49m\u001b[38;5;124;43m'\u001b[39;49m\u001b[38;5;124;43mtime\u001b[39;49m\u001b[38;5;124;43m'\u001b[39;49m\u001b[43m]\u001b[49m\u001b[43m,\u001b[49m\u001b[43m \u001b[49m\u001b[43malpha\u001b[49m\u001b[38;5;241;43m=\u001b[39;49m\u001b[38;5;241;43m0.95\u001b[39;49m\u001b[43m)\u001b[49m\n\u001b[1;32m    191\u001b[0m slope_values[i,j] \u001b[38;5;241m=\u001b[39m m\n\u001b[1;32m    192\u001b[0m \u001b[38;5;66;03m#intercept_values[i,j] = c\u001b[39;00m\n",
      "File \u001b[0;32m~/.local/lib/python3.9/site-packages/scipy/stats/_stats_mstats_common.py:311\u001b[0m, in \u001b[0;36mtheilslopes\u001b[0;34m(y, x, alpha, method)\u001b[0m\n\u001b[1;32m    309\u001b[0m     x \u001b[38;5;241m=\u001b[39m np\u001b[38;5;241m.\u001b[39marange(\u001b[38;5;28mlen\u001b[39m(y), dtype\u001b[38;5;241m=\u001b[39m\u001b[38;5;28mfloat\u001b[39m)\n\u001b[1;32m    310\u001b[0m \u001b[38;5;28;01melse\u001b[39;00m:\n\u001b[0;32m--> 311\u001b[0m     x \u001b[38;5;241m=\u001b[39m \u001b[43mnp\u001b[49m\u001b[38;5;241;43m.\u001b[39;49m\u001b[43marray\u001b[49m\u001b[43m(\u001b[49m\u001b[43mx\u001b[49m\u001b[43m,\u001b[49m\u001b[43m \u001b[49m\u001b[43mdtype\u001b[49m\u001b[38;5;241;43m=\u001b[39;49m\u001b[38;5;28;43mfloat\u001b[39;49m\u001b[43m)\u001b[49m\u001b[38;5;241m.\u001b[39mflatten()\n\u001b[1;32m    312\u001b[0m     \u001b[38;5;28;01mif\u001b[39;00m \u001b[38;5;28mlen\u001b[39m(x) \u001b[38;5;241m!=\u001b[39m \u001b[38;5;28mlen\u001b[39m(y):\n\u001b[1;32m    313\u001b[0m         \u001b[38;5;28;01mraise\u001b[39;00m \u001b[38;5;167;01mValueError\u001b[39;00m(\u001b[38;5;124m\"\u001b[39m\u001b[38;5;124mIncompatible lengths ! (\u001b[39m\u001b[38;5;132;01m%s\u001b[39;00m\u001b[38;5;124m<>\u001b[39m\u001b[38;5;132;01m%s\u001b[39;00m\u001b[38;5;124m)\u001b[39m\u001b[38;5;124m\"\u001b[39m \u001b[38;5;241m%\u001b[39m\n\u001b[1;32m    314\u001b[0m                          (\u001b[38;5;28mlen\u001b[39m(y), \u001b[38;5;28mlen\u001b[39m(x)))\n",
      "File \u001b[0;32m~/.local/lib/python3.9/site-packages/xarray/core/common.py:156\u001b[0m, in \u001b[0;36mAbstractArray.__array__\u001b[0;34m(self, dtype)\u001b[0m\n\u001b[1;32m    155\u001b[0m \u001b[38;5;28;01mdef\u001b[39;00m \u001b[38;5;21m__array__\u001b[39m(\u001b[38;5;28mself\u001b[39m: Any, dtype: DTypeLike \u001b[38;5;241m=\u001b[39m \u001b[38;5;28;01mNone\u001b[39;00m) \u001b[38;5;241m-\u001b[39m\u001b[38;5;241m>\u001b[39m np\u001b[38;5;241m.\u001b[39mndarray:\n\u001b[0;32m--> 156\u001b[0m     \u001b[38;5;28;01mreturn\u001b[39;00m \u001b[43mnp\u001b[49m\u001b[38;5;241;43m.\u001b[39;49m\u001b[43masarray\u001b[49m\u001b[43m(\u001b[49m\u001b[38;5;28;43mself\u001b[39;49m\u001b[38;5;241;43m.\u001b[39;49m\u001b[43mvalues\u001b[49m\u001b[43m,\u001b[49m\u001b[43m \u001b[49m\u001b[43mdtype\u001b[49m\u001b[38;5;241;43m=\u001b[39;49m\u001b[43mdtype\u001b[49m\u001b[43m)\u001b[49m\n",
      "\u001b[0;31mTypeError\u001b[0m: float() argument must be a string or a number, not 'cftime._cftime.DatetimeNoLeap'"
     ]
    }
   ],
   "source": [
    "INDEXES = ['TX']\n",
    "#INDEXES = ['TX', 'TX:DJF', 'TX:MAM', 'TX:JJA', 'TX:SON']\n",
    "now = dt.now()\n",
    "for index in INDEXES:\n",
    "    print(\"index = {:}\".format(index))\n",
    "    \n",
    "    # check whether the index has special conditions\n",
    "    index_condition = None\n",
    "    if not \":\" in index:\n",
    "        # Prepare all the icclim data as per the setup in CONFIGURATIONS\n",
    "        ds = prepare_data(index)\n",
    "        clabel = \"slope of {index}({freq})\".format(index=index, freq=FREQ)\n",
    "    else:\n",
    "        index_condition = index.split(\":\")[1]\n",
    "        index = index.split(\":\")[0]\n",
    "        ds = prepare_data(index, season=index_condition)\n",
    "        clabel = \"slope of {index}({index_condition})\".format(index=index, index_condition=index_condition)\n",
    "    \n",
    "    ds_target = {}\n",
    "    flist = []\n",
    "    for s in SOURCES:\n",
    "        print(s)\n",
    "        print(now)\n",
    "        ds_target[s] = ds[s][index]\n",
    "        print(\"Finished calculating Sen slope, applying region mask\")\n",
    "        \n",
    "        ds_target[s] = lib_spatial.apply_region_mask(ds_target[s], 'Australia')\n",
    "        ds_target[s] = lib_standards.compute_sen_slope(ds_target[s])\n",
    "                    \n",
    "        # save min/max values into a flattened list to generate shared colourbar\n",
    "        for sublist in ds_target[s].values:\n",
    "            for item in sublist:\n",
    "                flist.append(item)\n",
    "    if index in ['TX']:\n",
    "        cmap_variable = 'temp'\n",
    "        cmap_class = 'hot'\n",
    "        \n",
    "    flistnp = np.array(flist)\n",
    "    lib_standards.spatial_plot_trend(ds_target, flistnp, cmap_variable=cmap_variable, \n",
    "                                     cmap_class=cmap_class, clabel=clabel, include_area_avg=True)\n",
    "    plt.tight_layout()\n",
    "#    plt.savefig(\"./figs/tx/tx_%s_%s.png\"%(index,index_condition),dpi=300)"
   ]
  }
 ],
 "metadata": {
  "kernelspec": {
   "display_name": "Python [conda env:analysis3-22.10]",
   "language": "python",
   "name": "conda-env-analysis3-22.10-py"
  },
  "language_info": {
   "codemirror_mode": {
    "name": "ipython",
    "version": 3
   },
   "file_extension": ".py",
   "mimetype": "text/x-python",
   "name": "python",
   "nbconvert_exporter": "python",
   "pygments_lexer": "ipython3",
   "version": "3.9.15"
  }
 },
 "nbformat": 4,
 "nbformat_minor": 5
}
