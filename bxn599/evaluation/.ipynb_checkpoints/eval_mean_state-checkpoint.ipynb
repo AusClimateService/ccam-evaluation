{
 "cells": [
  {
   "cell_type": "code",
   "execution_count": 1,
   "id": "6bd6bfbf-fefa-4a00-9876-ab245c3eb40f",
   "metadata": {},
   "outputs": [
    {
     "ename": "AttributeError",
     "evalue": "module 'xarray.core' has no attribute 'resample'",
     "output_type": "error",
     "traceback": [
      "\u001b[0;31m---------------------------------------------------------------------------\u001b[0m",
      "\u001b[0;31mAttributeError\u001b[0m                            Traceback (most recent call last)",
      "\u001b[0;32m/jobfs/66073025.gadi-pbs/ipykernel_3788687/3441606960.py\u001b[0m in \u001b[0;36m<cell line: 11>\u001b[0;34m()\u001b[0m\n\u001b[1;32m      9\u001b[0m \u001b[0;32mimport\u001b[0m \u001b[0mxarray\u001b[0m \u001b[0;32mas\u001b[0m \u001b[0mxr\u001b[0m\u001b[0;34m\u001b[0m\u001b[0;34m\u001b[0m\u001b[0m\n\u001b[1;32m     10\u001b[0m \u001b[0;32mimport\u001b[0m \u001b[0mnumpy\u001b[0m \u001b[0;32mas\u001b[0m \u001b[0mnp\u001b[0m\u001b[0;34m\u001b[0m\u001b[0;34m\u001b[0m\u001b[0m\n\u001b[0;32m---> 11\u001b[0;31m \u001b[0;32mimport\u001b[0m \u001b[0mxesmf\u001b[0m \u001b[0;32mas\u001b[0m \u001b[0mxe\u001b[0m\u001b[0;34m\u001b[0m\u001b[0;34m\u001b[0m\u001b[0m\n\u001b[0m\u001b[1;32m     12\u001b[0m \u001b[0;32mimport\u001b[0m \u001b[0mgeopandas\u001b[0m \u001b[0;32mas\u001b[0m \u001b[0mgp\u001b[0m\u001b[0;34m\u001b[0m\u001b[0;34m\u001b[0m\u001b[0m\n\u001b[1;32m     13\u001b[0m \u001b[0;32mfrom\u001b[0m \u001b[0mdatetime\u001b[0m \u001b[0;32mimport\u001b[0m \u001b[0mdatetime\u001b[0m \u001b[0;32mas\u001b[0m \u001b[0mdt\u001b[0m\u001b[0;34m\u001b[0m\u001b[0;34m\u001b[0m\u001b[0m\n",
      "\u001b[0;32m/g/data/hh5/public/apps/miniconda3/envs/analysis3-22.04/lib/python3.9/site-packages/xesmf/__init__.py\u001b[0m in \u001b[0;36m<module>\u001b[0;34m\u001b[0m\n\u001b[1;32m      2\u001b[0m \u001b[0;34m\u001b[0m\u001b[0m\n\u001b[1;32m      3\u001b[0m \u001b[0;32mfrom\u001b[0m \u001b[0;34m.\u001b[0m \u001b[0;32mimport\u001b[0m \u001b[0mdata\u001b[0m\u001b[0;34m,\u001b[0m \u001b[0mutil\u001b[0m\u001b[0;34m\u001b[0m\u001b[0;34m\u001b[0m\u001b[0m\n\u001b[0;32m----> 4\u001b[0;31m \u001b[0;32mfrom\u001b[0m \u001b[0;34m.\u001b[0m\u001b[0mfrontend\u001b[0m \u001b[0;32mimport\u001b[0m \u001b[0mRegridder\u001b[0m\u001b[0;34m,\u001b[0m \u001b[0mSpatialAverager\u001b[0m\u001b[0;34m\u001b[0m\u001b[0;34m\u001b[0m\u001b[0m\n\u001b[0m\u001b[1;32m      5\u001b[0m \u001b[0;34m\u001b[0m\u001b[0m\n\u001b[1;32m      6\u001b[0m \u001b[0;32mtry\u001b[0m\u001b[0;34m:\u001b[0m\u001b[0;34m\u001b[0m\u001b[0;34m\u001b[0m\u001b[0m\n",
      "\u001b[0;32m/g/data/hh5/public/apps/miniconda3/envs/analysis3-22.04/lib/python3.9/site-packages/xesmf/frontend.py\u001b[0m in \u001b[0;36m<module>\u001b[0;34m\u001b[0m\n\u001b[1;32m      5\u001b[0m \u001b[0;32mimport\u001b[0m \u001b[0mwarnings\u001b[0m\u001b[0;34m\u001b[0m\u001b[0;34m\u001b[0m\u001b[0m\n\u001b[1;32m      6\u001b[0m \u001b[0;34m\u001b[0m\u001b[0m\n\u001b[0;32m----> 7\u001b[0;31m \u001b[0;32mimport\u001b[0m \u001b[0mcf_xarray\u001b[0m \u001b[0;32mas\u001b[0m \u001b[0mcfxr\u001b[0m\u001b[0;34m\u001b[0m\u001b[0;34m\u001b[0m\u001b[0m\n\u001b[0m\u001b[1;32m      8\u001b[0m \u001b[0;32mimport\u001b[0m \u001b[0mnumpy\u001b[0m \u001b[0;32mas\u001b[0m \u001b[0mnp\u001b[0m\u001b[0;34m\u001b[0m\u001b[0;34m\u001b[0m\u001b[0m\n\u001b[1;32m      9\u001b[0m \u001b[0;32mimport\u001b[0m \u001b[0mxarray\u001b[0m \u001b[0;32mas\u001b[0m \u001b[0mxr\u001b[0m\u001b[0;34m\u001b[0m\u001b[0;34m\u001b[0m\u001b[0m\n",
      "\u001b[0;32m/g/data/hh5/public/apps/miniconda3/envs/analysis3-22.04/lib/python3.9/site-packages/cf_xarray/__init__.py\u001b[0m in \u001b[0;36m<module>\u001b[0;34m\u001b[0m\n\u001b[0;32m----> 1\u001b[0;31m \u001b[0;32mfrom\u001b[0m \u001b[0;34m.\u001b[0m\u001b[0maccessor\u001b[0m \u001b[0;32mimport\u001b[0m \u001b[0mCFAccessor\u001b[0m  \u001b[0;31m# noqa\u001b[0m\u001b[0;34m\u001b[0m\u001b[0;34m\u001b[0m\u001b[0m\n\u001b[0m\u001b[1;32m      2\u001b[0m from .coding import (  # noqa\n\u001b[1;32m      3\u001b[0m     \u001b[0mdecode_compress_to_multi_index\u001b[0m\u001b[0;34m,\u001b[0m\u001b[0;34m\u001b[0m\u001b[0;34m\u001b[0m\u001b[0m\n\u001b[1;32m      4\u001b[0m     \u001b[0mencode_multi_index_as_compress\u001b[0m\u001b[0;34m,\u001b[0m\u001b[0;34m\u001b[0m\u001b[0;34m\u001b[0m\u001b[0m\n\u001b[1;32m      5\u001b[0m )\n",
      "\u001b[0;32m/g/data/hh5/public/apps/miniconda3/envs/analysis3-22.04/lib/python3.9/site-packages/cf_xarray/accessor.py\u001b[0m in \u001b[0;36m<module>\u001b[0;34m\u001b[0m\n\u001b[1;32m     39\u001b[0m \u001b[0;31m#: Classes wrapped by cf_xarray.\u001b[0m\u001b[0;34m\u001b[0m\u001b[0;34m\u001b[0m\u001b[0m\n\u001b[1;32m     40\u001b[0m _WRAPPED_CLASSES = (\n\u001b[0;32m---> 41\u001b[0;31m     \u001b[0mxr\u001b[0m\u001b[0;34m.\u001b[0m\u001b[0mcore\u001b[0m\u001b[0;34m.\u001b[0m\u001b[0mresample\u001b[0m\u001b[0;34m.\u001b[0m\u001b[0mResample\u001b[0m\u001b[0;34m,\u001b[0m\u001b[0;34m\u001b[0m\u001b[0;34m\u001b[0m\u001b[0m\n\u001b[0m\u001b[1;32m     42\u001b[0m     \u001b[0mxr\u001b[0m\u001b[0;34m.\u001b[0m\u001b[0mcore\u001b[0m\u001b[0;34m.\u001b[0m\u001b[0mgroupby\u001b[0m\u001b[0;34m.\u001b[0m\u001b[0mGroupBy\u001b[0m\u001b[0;34m,\u001b[0m\u001b[0;34m\u001b[0m\u001b[0;34m\u001b[0m\u001b[0m\n\u001b[1;32m     43\u001b[0m     \u001b[0mxr\u001b[0m\u001b[0;34m.\u001b[0m\u001b[0mcore\u001b[0m\u001b[0;34m.\u001b[0m\u001b[0mrolling\u001b[0m\u001b[0;34m.\u001b[0m\u001b[0mRolling\u001b[0m\u001b[0;34m,\u001b[0m\u001b[0;34m\u001b[0m\u001b[0;34m\u001b[0m\u001b[0m\n",
      "\u001b[0;31mAttributeError\u001b[0m: module 'xarray.core' has no attribute 'resample'"
     ]
    }
   ],
   "source": [
    "## Tested using the following loaded modules\n",
    "## module use /g/data/access/ngm/modules\n",
    "## module load analysis3/21.10\n",
    "import os, sys\n",
    "workdir = \"/g/data/xv83/bxn599/ACS/evaluation\"\n",
    "os.chdir(workdir)\n",
    "sys.path.append(\"./lib\")\n",
    "import glob\n",
    "import xarray as xr\n",
    "import numpy as np\n",
    "import xesmf as xe\n",
    "import geopandas as gp\n",
    "from datetime import datetime as dt\n",
    "import lib_standards\n",
    "import spatial_selection\n",
    "import matplotlib as mpl\n",
    "import matplotlib.pyplot as plt\n",
    "import importlib\n",
    "importlib.reload(lib_standards)\n",
    "import warnings\n",
    "warnings.filterwarnings('ignore')\n",
    "\n",
    "font = {'size'   : 12}\n",
    "mpl.rc('font', **font)"
   ]
  },
  {
   "cell_type": "code",
   "execution_count": null,
   "id": "31390696-9de7-400e-b909-dc1bdbd9cfcb",
   "metadata": {},
   "outputs": [],
   "source": [
    "DATA_LOCATIONS = {\n",
    "    'AGCD': \"/g/data/ia39/australian-climate-service/test-data/CORDEX-CMIP6/indices/AUS-r005/none/BOM-AGCD/historical/none/none/v1/climdex\",\n",
    "    'BARPA-R:ERA5': \"/g/data/ia39/australian-climate-service/test-data/CORDEX-CMIP6/indices/AUS-15/BOM/ECMWF-ERA5/evaluation/r1i1p1f1/BOM-BARPA-R/v1/climdex\",\n",
    "    'ERA5': \"/g/data/ia39/australian-climate-service/test-data/CORDEX-CMIP6/indices/AUS-25/none/ECMWF-ERA5/historical/none/none/v1/climdex\",\n",
    "    'CCAM:ERA5': \"/g/data/ia39/australian-climate-service/test-data/CORDEX-CMIP6/indices/AUS-10/CSIRO/ECNWF-ERA5/evaluation/none/CSIRO-CCAM-2203/v1/climdex\"\n",
    "}\n",
    "# Frequency of icclim indicator\n",
    "FREQ = 'month'\n",
    "# Data sources to consider here\n",
    "SOURCES = ['BARPA-R:ERA5', 'AGCD', 'ERA5', 'CCAM:ERA5']\n",
    "# Grid to used as the reference grid to compute difference metrics\n",
    "REFERENCE_GRID = 'BARPA-R:ERA5'\n",
    "# \"Truth\" for compute difference metrics\n",
    "REFERENCE = 'AGCD'\n",
    "# Region of interest, as per defined in lib_standards.DOMAINS\n",
    "REGION = 'Australia'  \n",
    "# Period of interest, as per defined in lib_standards.PERIODS\n",
    "PERIOD = 'HISTORICAL_WHOLE' \n",
    "SEASON='all'"
   ]
  },
  {
   "cell_type": "code",
   "execution_count": null,
   "id": "70fd9c1e-be8d-4925-bbd4-ae4821c243c7",
   "metadata": {},
   "outputs": [],
   "source": [
    "def prepare_data(index, sources=SOURCES, freq=FREQ, region=REGION, period=PERIOD, reference_grid=REFERENCE_GRID, season=SEASON):\n",
    "    \"\"\"\n",
    "    Reads in the icclim data and regrid to the reference grid.\n",
    "    \"\"\"\n",
    "    # Load the data sources\n",
    "    ds = {}\n",
    "    for s in sources:\n",
    "        print(\"Reading the data {:}\".format(s))\n",
    "        fs = glob.glob(os.path.join(DATA_LOCATIONS[s], index, \"{index}_*_{freq}_*.nc\".format(index=index, freq=freq)))\n",
    "        ds[s] = xr.open_dataset(fs[0])\n",
    "        ds[s] = lib_standards.standardise_data(ds[s], region=region, period=period, season=season, compute=True)\n",
    "\n",
    "    # Regrid to the REFERENCE_GRID\n",
    "    ds_regrid = {}\n",
    "    for s in sources:\n",
    "        print(\"Regridding the data {:} to reference grid of {:}\".format(s, reference_grid))\n",
    "        ds_regrid[s] = lib_standards.add_region_land_mask(ds[s], region)\n",
    "        if s == reference_grid:\n",
    "            ds_regrid[s] = ds_regrid[s].compute()\n",
    "        else:\n",
    "            ds_regrid[s] = lib_standards.regrid(ds_regrid[s], ds[reference_grid]).compute()\n",
    "        \n",
    "    return ds_regrid"
   ]
  },
  {
   "cell_type": "markdown",
   "id": "8eb2cce1-dfe2-4d1e-806f-ff3f7bbd2ccb",
   "metadata": {},
   "source": [
    "# For the main paper"
   ]
  },
  {
   "cell_type": "code",
   "execution_count": null,
   "id": "baa302dd-4130-4648-a40b-000013312f75",
   "metadata": {},
   "outputs": [],
   "source": [
    "#INDEXES = ['TX', 'TX:DJF', 'TX:JJA', 'TN', 'TN:DJF', 'TN:JJA', 'PRCPTOT', 'PRCPTOT:DJF', 'PRCPTOT:JJA']\n",
    "INDEXES = ['TX:DJF', 'TX:JJA', 'TN:DJF', 'TN:JJA', 'PRCPTOT:DJF', 'PRCPTOT:JJA']\n",
    "for index in INDEXES:\n",
    "    print(\"index = {:}\".format(index))\n",
    "    \n",
    "    # check whether the index has special conditions\n",
    "    index_condition = None\n",
    "    if not \":\" in index:\n",
    "        # Prepare all the icclim data as per the setup in CONFIGURATIONS\n",
    "        ds = prepare_data(index.lower())\n",
    "        clabel = \"mean of {index}({freq})\".format(index=index, freq=FREQ)\n",
    "    else:\n",
    "        index_condition = index.split(\":\")[1]\n",
    "        index = index.split(\":\")[0]\n",
    "        ds = prepare_data(index.lower(), season=index_condition)\n",
    "        clabel = \"mean of {index}({index_condition})\".format(index=index, index_condition=index_condition)\n",
    "    \n",
    "    ds_target = {}\n",
    "    for s in SOURCES:\n",
    "        ds_target[s] = ds[s][index].mean(dim='time')\n",
    "        ds_target[s] = lib_standards.apply_region_mask(ds_target[s], 'Australia')\n",
    "        if 'PRCPTOT' in index:\n",
    "            ds_target[s] = lib_standards.apply_agcd_data_mask(ds_target[s])\n",
    "                \n",
    "    if index in ['TX', 'TN']:\n",
    "        cmap_variable = 'temp'\n",
    "        cmap_class = 'hot'\n",
    "    if index in [\"PRCPTOT\"]:\n",
    "        cmap_variable = 'precip'\n",
    "        cmap_class = 'wet'\n",
    "    \n",
    "    lib_standards.spatial_plot(ds_target, reference=REFERENCE, \n",
    "                               cmap_variable=cmap_variable, cmap_class=cmap_class, \n",
    "                               clabel=clabel, plot_difference=True,\n",
    "                               include_all_data=False)"
   ]
  },
  {
   "cell_type": "markdown",
   "id": "deeb095d-b58c-4c87-a313-730cce9032fd",
   "metadata": {},
   "source": [
    "# For Supplementary Material"
   ]
  },
  {
   "cell_type": "code",
   "execution_count": null,
   "id": "6eca7c0a-2cf7-4723-9dc0-6bbe7b04817b",
   "metadata": {},
   "outputs": [],
   "source": [
    "importlib.reload(lib_standards)\n",
    "INDEXES = ['TX:MAM', 'TX:SON', 'TN:MAM', 'TN:SON', 'PRCPTOT:MAM', 'PRCPTOT:SON']\n",
    "for index in INDEXES:\n",
    "    print(\"index = {:}\".format(index))\n",
    "    \n",
    "    # check whether the index has special conditions\n",
    "    index_condition = None\n",
    "    if not \":\" in index:\n",
    "        # Prepare all the icclim data as per the setup in CONFIGURATIONS\n",
    "        ds = prepare_data(index.lower())\n",
    "        clabel = \"mean of {index}({freq})\".format(index=index, freq=FREQ)\n",
    "    else:\n",
    "        index_condition = index.split(\":\")[1]\n",
    "        index = index.split(\":\")[0]\n",
    "        ds = prepare_data(index.lower(), season=index_condition)\n",
    "        clabel = \"mean of {index}({index_condition})\".format(index=index, index_condition=index_condition)\n",
    "    \n",
    "    ds_target = {}\n",
    "    for s in SOURCES:\n",
    "        ds_target[s] = ds[s][index].mean(dim='time')\n",
    "        ds_target[s] = lib_standards.apply_region_mask(ds_target[s], 'Australia')\n",
    "        if 'PRCPTOT' in index:\n",
    "            ds_target[s] = lib_standards.apply_agcd_data_mask(ds_target[s])\n",
    "                \n",
    "    if index in ['TX', 'TN']:\n",
    "        cmap_variable = 'temp'\n",
    "        cmap_class = 'hot'\n",
    "    if index in [\"PRCPTOT\"]:\n",
    "        cmap_variable = 'precip'\n",
    "        cmap_class = 'wet'\n",
    "    \n",
    "    lib_standards.spatial_plot(ds_target, reference=REFERENCE, \n",
    "                               cmap_variable=cmap_variable, cmap_class=cmap_class, \n",
    "                               clabel=clabel, plot_difference=True,\n",
    "                               include_all_data=False)"
   ]
  },
  {
   "cell_type": "code",
   "execution_count": null,
   "id": "9a56afe8-67b4-4634-9056-eeaea248500e",
   "metadata": {},
   "outputs": [],
   "source": []
  }
 ],
 "metadata": {
  "kernelspec": {
   "display_name": "Python [conda env:analysis3-22.04]",
   "language": "python",
   "name": "conda-env-analysis3-22.04-py"
  },
  "language_info": {
   "codemirror_mode": {
    "name": "ipython",
    "version": 3
   },
   "file_extension": ".py",
   "mimetype": "text/x-python",
   "name": "python",
   "nbconvert_exporter": "python",
   "pygments_lexer": "ipython3",
   "version": "3.9.13"
  }
 },
 "nbformat": 4,
 "nbformat_minor": 5
}
